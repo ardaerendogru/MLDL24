{
 "cells": [
  {
   "cell_type": "code",
   "execution_count": 4,
   "metadata": {},
   "outputs": [
    {
     "data": {
      "image/png": "[encoded data removed]",
      "text/plain": [
       "<Figure size 640x480 with 1 Axes>"
      ]
     },
     "metadata": {},
     "output_type": "display_data"
    },
    {
     "data": {
      "text/plain": [
       "(720, 1280)"
      ]
     },
     "execution_count": 4,
     "metadata": {},
     "output_type": "execute_result"
    }
   ],
   "source": [
    "from utils import generate_cow_mask\n",
    "from PIL import Image\n",
    "import numpy as np\n",
    "from matplotlib import pyplot as plt\n",
    "\n",
    "\n",
    "mask = generate_cow_mask((720,1280), 150, 0.5, 1)[0][0]\n",
    "plt.imshow(mask)\n",
    "plt.show()\n",
    "mask.shape\n",
    "\n"
   ]
  },
  {
   "cell_type": "code",
   "execution_count": 8,
   "metadata": {},
   "outputs": [
    {
     "data": {
      "text/plain": [
       "1"
      ]
     },
     "execution_count": 8,
     "metadata": {},
     "output_type": "execute_result"
    }
   ],
   "source": [
    "import torch\n",
    "x = torch.tensor([1,2,11,4,5,6,7,8,9,10])\n",
    "sorted(x)[0].item()"
   ]
  },
  {
   "cell_type": "code",
   "execution_count": 1,
   "metadata": {},
   "outputs": [
    {
     "data": {
      "text/plain": [
       "786"
      ]
     },
     "execution_count": 1,
     "metadata": {},
     "output_type": "execute_result"
    }
   ],
   "source": [
    "import torch\n",
    "from torch.utils.data import DataLoader\n",
    "import albumentations as A\n",
    "from datasets import GTA5, CityScapes\n",
    "from models.deeplabv2.deeplabv2 import get_deeplab_v2\n",
    "from models.bisenet.build_bisenet import BiSeNet\n",
    "from training import train\n",
    "from model_evaluation import save_results\n",
    "from visualization import  plot_loss, plot_mIoU, plot_IoU\n",
    "from config import BATCH_SIZE, NC, NUM_WORKERS, CITYSCAPE_SIZE, GTA5_SIZE, EPOCHS, CITYSCAPES_MEAN, CITYSCAPES_STD, GTA5_MEAN, GTA5_STD\n",
    "torch.cuda.manual_seed(42)\n",
    "\n",
    "device = 'cuda' if torch.cuda.is_available() else 'cpu'\n",
    "\n",
    "model = BiSeNet(NC, 'resnet18').to(device)\n",
    "\n",
    "def mix(mask, data = None, target = None):\n",
    "    #Mix\n",
    "    if not (data is None):\n",
    "        if mask.shape[0] == data.shape[0]:\n",
    "            data = torch.cat([(mask[i] * data[i] + (1 - mask[i]) * data[(i + 1) % data.shape[0]]).unsqueeze(0) for i in range(data.shape[0])])\n",
    "        elif mask.shape[0] == data.shape[0] / 2:\n",
    "            data = torch.cat((torch.cat([(mask[i] * data[2 * i] + (1 - mask[i]) * data[2 * i + 1]).unsqueeze(0) for i in range(int(data.shape[0] / 2))]),\n",
    "                              torch.cat([((1 - mask[i]) * data[2 * i] + mask[i] * data[2 * i + 1]).unsqueeze(0) for i in range(int(data.shape[0] / 2))])))\n",
    "    if not (target is None):\n",
    "        target = torch.cat([(mask[i] * target[i] + (1 - mask[i]) * target[(i + 1) % target.shape[0]]).unsqueeze(0) for i in range(target.shape[0])])\n",
    "    return data, target\n",
    "\n",
    "def generate_class_mask(pred, classes):\n",
    "    pred, classes = torch.broadcast_tensors(pred.unsqueeze(0), classes.unsqueeze(1).unsqueeze(2))\n",
    "    N = pred.eq(classes).sum(0)\n",
    "    return N\n",
    "\n",
    "\n",
    "\n",
    "\n",
    "transforms = A.Compose([\n",
    "    A.Resize(CITYSCAPE_SIZE[0], CITYSCAPE_SIZE[1]),\n",
    "])\n",
    "transforms_GTA5 = A.Compose([\n",
    "        A.Resize(GTA5_SIZE[0], GTA5_SIZE[1]),\n",
    "\n",
    "\n",
    "])\n",
    "\n",
    "cityscapes_train_dataset = CityScapes('./Cityscapes', 'train', transform=transforms)\n",
    "cityscapes_test_dataset = CityScapes('./Cityscapes', 'val', transform=transforms)\n",
    "GTA5_dataset = GTA5('./GTA5', transform=transforms_GTA5)\n",
    "\n",
    "cityscapes_train_dataloader = DataLoader(cityscapes_train_dataset, batch_size=2, shuffle=True, num_workers=NUM_WORKERS)\n",
    "cityscapes_test_dataloader = DataLoader(cityscapes_test_dataset, batch_size=2, shuffle=True, num_workers=NUM_WORKERS)\n",
    "GTA5_dataloader = DataLoader(GTA5_dataset, batch_size=BATCH_SIZE, shuffle=True, num_workers=NUM_WORKERS)\n",
    "# cityscapes_mean, city_scapes_std = calculate_mean_std(cityscapes_train_dataloader)\n",
    "# GTA5_mean, GTA5_std = calculate_mean_std(GTA5_dataloader)\n",
    "\n",
    "len(cityscapes_train_dataloader)"
   ]
  },
  {
   "cell_type": "code",
   "execution_count": 2,
   "metadata": {},
   "outputs": [
    {
     "name": "stdout",
     "output_type": "stream",
     "text": [
      "tensor([ 6, 14,  4, 17, 13, 16,  5,  7], device='cuda:0')\n",
      "tensor([ 4,  5,  8, 13, 16,  9,  0], device='cuda:0')\n",
      "tensor([12,  5,  2, 14,  6,  7,  4, 16,  3], device='cuda:0')\n",
      "tensor([14, 13, 17,  9, 11, 16,  6,  5], device='cuda:0')\n",
      "torch.Size([4, 720, 1280])\n"
     ]
    }
   ],
   "source": [
    "import numpy as np\n",
    "for image, label in GTA5_dataloader:\n",
    "    image, label = image.to(device), label.to(device)\n",
    "    pred, _, _ = model(image)\n",
    "    pred_soft = torch.argmax(torch.softmax(pred, dim=1), dim=1).long()\n",
    "    masks = []\n",
    "    for i in range(image.size(0)):  # Iterate over each image in the batch\n",
    "        image_classes = torch.unique(pred_soft[i])\n",
    "        image_classes = image_classes[image_classes != 255]  # Exclude the ignore class\n",
    "        nclasses = image_classes.shape[0]\n",
    "        selected_classes = image_classes[torch.Tensor(np.random.choice(nclasses, int((nclasses - nclasses % 2) / 2), replace=False)).long()].cuda()\n",
    "        print(selected_classes)\n",
    "        masks.append(generate_class_mask(pred_soft[i], selected_classes))\n",
    "    mask = torch.stack(masks)\n",
    "    print(mask.shape)\n",
    "    break\n",
    "\n"
   ]
  },
  {
   "cell_type": "code",
   "execution_count": 3,
   "metadata": {},
   "outputs": [
    {
     "data": {
      "text/plain": [
       "tensor([[[0, 0, 0,  ..., 0, 0, 0],\n",
       "         [0, 0, 0,  ..., 0, 0, 0],\n",
       "         [0, 0, 0,  ..., 0, 0, 0],\n",
       "         ...,\n",
       "         [1, 1, 1,  ..., 1, 1, 1],\n",
       "         [1, 1, 1,  ..., 1, 1, 1],\n",
       "         [1, 1, 1,  ..., 1, 1, 1]],\n",
       "\n",
       "        [[0, 0, 0,  ..., 0, 0, 0],\n",
       "         [0, 0, 0,  ..., 0, 0, 0],\n",
       "         [0, 0, 0,  ..., 0, 0, 0],\n",
       "         ...,\n",
       "         [1, 1, 1,  ..., 0, 0, 0],\n",
       "         [1, 1, 1,  ..., 0, 0, 0],\n",
       "         [1, 1, 1,  ..., 0, 0, 0]],\n",
       "\n",
       "        [[1, 1, 1,  ..., 1, 1, 1],\n",
       "         [1, 1, 1,  ..., 1, 1, 1],\n",
       "         [1, 1, 1,  ..., 1, 1, 1],\n",
       "         ...,\n",
       "         [0, 0, 0,  ..., 0, 0, 0],\n",
       "         [0, 0, 0,  ..., 0, 0, 0],\n",
       "         [0, 0, 0,  ..., 0, 0, 0]],\n",
       "\n",
       "        [[1, 1, 1,  ..., 0, 0, 0],\n",
       "         [1, 1, 1,  ..., 0, 0, 0],\n",
       "         [1, 1, 1,  ..., 0, 0, 0],\n",
       "         ...,\n",
       "         [1, 1, 1,  ..., 1, 1, 1],\n",
       "         [1, 1, 1,  ..., 1, 1, 1],\n",
       "         [1, 1, 1,  ..., 1, 1, 1]]], device='cuda:0')"
      ]
     },
     "execution_count": 3,
     "metadata": {},
     "output_type": "execute_result"
    }
   ],
   "source": []
  },
  {
   "cell_type": "code",
   "execution_count": 21,
   "metadata": {},
   "outputs": [],
   "source": [
    "del class_occurance_dict['255']\n"
   ]
  },
  {
   "cell_type": "code",
   "execution_count": 23,
   "metadata": {},
   "outputs": [
    {
     "data": {
      "text/plain": [
       "{'0': 0.4736585289252789,\n",
       " '1': 0.037353923869027014,\n",
       " '2': 0.1389279692559401,\n",
       " '4': 0.007365253267702513,\n",
       " '5': 0.01239771468073813,\n",
       " '6': 0.0013794206725236096,\n",
       " '7': 0.001262954484359789,\n",
       " '8': 0.07425178751055177,\n",
       " '9': 0.033243068673944144,\n",
       " '10': 0.17447357014382447,\n",
       " '11': 0.0013711530365722823,\n",
       " '12': 0.0002874583073654686,\n",
       " '13': 0.02390354978900514,\n",
       " '14': 0.01303180359961868,\n",
       " '15': 0.002847960219900922,\n",
       " '16': 0.003787484910037849,\n",
       " '17': 0.00039483666786594736,\n",
       " '18': 6.156198574335419e-05}"
      ]
     },
     "execution_count": 23,
     "metadata": {},
     "output_type": "execute_result"
    }
   ],
   "source": [
    "total_occurrences = sum(class_occurance_dict.values())\n",
    "normalized_class_occurance_dict = {k: v / total_occurrences for k, v in class_occurance_dict.items()}\n",
    "normalized_class_occurance_dict\n"
   ]
  },
  {
   "cell_type": "code",
   "execution_count": 26,
   "metadata": {},
   "outputs": [
    {
     "data": {
      "text/plain": [
       "{'0': 0.4736585289252789,\n",
       " '1': 0.037353923869027014,\n",
       " '2': 0.1389279692559401,\n",
       " '4': 0.007365253267702513,\n",
       " '5': 0.01239771468073813,\n",
       " '6': 0.0013794206725236096,\n",
       " '7': 0.001262954484359789,\n",
       " '8': 0.07425178751055177,\n",
       " '9': 0.033243068673944144,\n",
       " '10': 0.17447357014382447,\n",
       " '11': 0.0013711530365722823,\n",
       " '12': 0.0002874583073654686,\n",
       " '13': 0.02390354978900514,\n",
       " '14': 0.01303180359961868,\n",
       " '15': 0.002847960219900922,\n",
       " '16': 0.003787484910037849,\n",
       " '17': 0.00039483666786594736,\n",
       " '18': 6.156198574335419e-05}"
      ]
     },
     "execution_count": 26,
     "metadata": {},
     "output_type": "execute_result"
    }
   ],
   "source": [
    "normalized_class_occurance_dict"
   ]
  },
  {
   "cell_type": "code",
   "execution_count": 27,
   "metadata": {},
   "outputs": [
    {
     "data": {
      "text/plain": [
       "array([ 9,  0,  4,  2,  7, 13, 10,  1, 12])"
      ]
     },
     "execution_count": 27,
     "metadata": {},
     "output_type": "execute_result"
    }
   ],
   "source": [
    "import numpy as np\n",
    "np.random.choice(18, 9, replace=False, p=[normalized_class_occurance_dict[str(i)] for i in normalized_class_occurance_dict.keys()])\n"
   ]
  },
  {
   "cell_type": "code",
   "execution_count": 13,
   "metadata": {},
   "outputs": [
    {
     "data": {
      "text/plain": [
       "0.23399858894736844"
      ]
     },
     "execution_count": 13,
     "metadata": {},
     "output_type": "execute_result"
    }
   ],
   "source": [
    "np.array([6.2180e-01, 2.4328e-01, 6.5144e-01, 8.4728e-02, 7.5659e-02, 1.7496e-01,\n",
    "        7.4601e-02, 6.3373e-02, 6.2709e-01, 7.3831e-02, 6.0504e-01, 2.3958e-01,\n",
    "        2.1837e-02, 6.6673e-01, 1.2664e-01, 6.7213e-02, 1.6831e-02, 1.0683e-02,\n",
    "        6.5719e-04]).mean()"
   ]
  },
  {
   "cell_type": "code",
   "execution_count": 16,
   "metadata": {},
   "outputs": [
    {
     "name": "stdout",
     "output_type": "stream",
     "text": [
      "19.284736842105264\n"
     ]
    },
    {
     "ename": "",
     "evalue": "",
     "output_type": "error",
     "traceback": [
      "\u001b[1;31mThe Kernel crashed while executing code in the current cell or a previous cell. \n",
      "\u001b[1;31mPlease review the code in the cell(s) to identify a possible cause of the failure. \n",
      "\u001b[1;31mClick <a href='https://aka.ms/vscodeJupyterKernelCrash'>here</a> for more info. \n",
      "\u001b[1;31mView Jupyter <a href='command:jupyter.viewOutput'>log</a> for further details."
     ]
    }
   ],
   "source": [
    "import numpy as np\n",
    "\n",
    "text = \"road: 30.50% sidewalk: 4.21% building: 61.14% wall: 5.81% fence: 2.34% pole: 15.27% traffic light: 13.24% traffic sign: 7.24% vegetation: 66.19% terrain: 3.18% sky: 58.31% person: 38.82% rider: 7.36% car: 47.89% truck: 1.52% bus: 0.30% train: 0.00% motorcycle: 3.09% bicycle: 0.00%\"\n",
    "\n",
    "# Extracting the percentage values\n",
    "percentages = [float(value.split('%')[0]) for value in text.split() if '%' in value]\n",
    "\n",
    "# Creating a NumPy array\n",
    "percentages_array = np.array(percentages).mean()\n",
    "\n",
    "print(percentages_array)"
   ]
  },
  {
   "cell_type": "code",
   "execution_count": null,
   "metadata": {},
   "outputs": [],
   "source": []
  }
 ],
 "metadata": {
  "kernelspec": {
   "display_name": "SEMSEG",
   "language": "python",
   "name": "python3"
  },
  "language_info": {
   "codemirror_mode": {
    "name": "ipython",
    "version": 3
   },
   "file_extension": ".py",
   "mimetype": "text/x-python",
   "name": "python",
   "nbconvert_exporter": "python",
   "pygments_lexer": "ipython3",
   "version": "3.9.19"
  }
 },
 "nbformat": 4,
 "nbformat_minor": 2
}
