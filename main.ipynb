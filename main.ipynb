{
 "cells": [
  {
   "cell_type": "code",
   "execution_count": null,
   "metadata": {},
   "outputs": [],
   "source": [
    "import torch\n",
    "from torch.utils.data import DataLoader\n",
    "import albumentations as A\n",
    "from datasets import GTA5, CityScapes\n",
    "from models.deeplabv2.deeplabv2 import get_deeplab_v2\n",
    "from models.bisenet.build_bisenet import BiSeNet\n",
    "from training import train\n",
    "from model_evaluation import save_results\n",
    "from visualization import  plot_loss, plot_mIoU, plot_IoU\n",
    "from config import BATCH_SIZE, NC, NUM_WORKERS, CITYSCAPE_SIZE, GTA5_SIZE, EPOCHS, CITYSCAPES_MEAN, CITYSCAPES_STD, GTA5_MEAN, GTA5_STD, augmentations\n",
    "torch.cuda.manual_seed(42)\n",
    "\n",
    "device = 'cuda' if torch.cuda.is_available() else 'cpu'\n",
    "\n"
   ]
  },
  {
   "cell_type": "code",
   "execution_count": null,
   "metadata": {},
   "outputs": [],
   "source": [
    "\n",
    "transforms = A.Compose([\n",
    "    A.Resize(CITYSCAPE_SIZE[0], CITYSCAPE_SIZE[1]),\n",
    "])\n",
    "transforms_GTA5 = A.Compose([\n",
    "        A.Resize(GTA5_SIZE[0], GTA5_SIZE[1]),\n",
    "\n",
    "\n",
    "])\n",
    "\n",
    "cityscapes_train_dataset = CityScapes('./Cityscapes', 'train', transform=transforms)\n",
    "cityscapes_test_dataset = CityScapes('./Cityscapes', 'val', transform=transforms)\n",
    "GTA5_dataset = GTA5('./GTA5', transform=transforms_GTA5)\n",
    "\n",
    "cityscapes_train_dataloader = DataLoader(cityscapes_train_dataset, batch_size=BATCH_SIZE, shuffle=True, num_workers=NUM_WORKERS)\n",
    "cityscapes_test_dataloader = DataLoader(cityscapes_test_dataset, batch_size=BATCH_SIZE, shuffle=True, num_workers=NUM_WORKERS)\n",
    "GTA5_dataloader = DataLoader(GTA5_dataset, batch_size=BATCH_SIZE, shuffle=True, num_workers=NUM_WORKERS)\n",
    "# cityscapes_mean, city_scapes_std = calculate_mean_std(cityscapes_train_dataloader)\n",
    "# GTA5_mean, GTA5_std = calculate_mean_std(GTA5_dataloader)\n",
    "\n",
    "len(cityscapes_train_dataloader)"
   ]
  },
  {
   "cell_type": "markdown",
   "metadata": {},
   "source": [
    "## 2.1 DeepLabV2"
   ]
  },
  {
   "cell_type": "code",
   "execution_count": null,
   "metadata": {},
   "outputs": [],
   "source": [
    "\n",
    "loss_fn = torch.nn.CrossEntropyLoss(ignore_index=255)\n",
    "init_lr = 2.5e-4\n",
    "model_deeplab = get_deeplab_v2(num_classes=19, pretrain=True, pretrain_model_path='./models/deeplab_resnet_pretrained_imagenet.pth').to(device)\n",
    "if device == 'cuda' and torch.cuda.device_count() > 1:\n",
    "    model_deeplab = torch.nn.DataParallel(model_deeplab).to(device)\n",
    "optimizer_deeplab = torch.optim.SGD(model_deeplab.parameters(), lr=init_lr, momentum=0.9, weight_decay=5e-4)\n",
    "\n",
    "deeplab_result = train(model = model_deeplab,\n",
    "                       optimizer = optimizer_deeplab,\n",
    "                       loss_fn = loss_fn, \n",
    "                       train_dataloader = cityscapes_train_dataloader,\n",
    "                       validation_dataloader = cityscapes_test_dataloader, \n",
    "                       epochs = EPOCHS,\n",
    "                       device = device,\n",
    "                       model_name = \"deeplab\",\n",
    "                       class_number= NC)"
   ]
  },
  {
   "cell_type": "code",
   "execution_count": null,
   "metadata": {},
   "outputs": [],
   "source": [
    "save_results(model_deeplab, deeplab_result, \"deeplab_performance_metrics_2_1\", height=CITYSCAPE_SIZE[0], width=CITYSCAPE_SIZE[1], iterations=100, device=device)\n",
    "plot_loss(deeplab_result, \"DeepLabV2\", \"step2_1\", \"CityScapes\", \"CityScapes\")\n",
    "plot_mIoU(deeplab_result, \"DeepLabV2\", \"step2_1\", \"CityScapes\", \"CityScapes\")\n",
    "plot_IoU(deeplab_result, \"DeepLabV2\", \"step2_1\", \"CityScapes\", \"CityScapes\")\n",
    "\n",
    "torch.save(model_deeplab.state_dict(), \"./checkpoints/deeplab_model_2_1.pth\")"
   ]
  },
  {
   "cell_type": "markdown",
   "metadata": {},
   "source": [
    "## 2.2 BiseNet\n"
   ]
  },
  {
   "cell_type": "code",
   "execution_count": null,
   "metadata": {},
   "outputs": [],
   "source": [
    "init_lr = 2.5e-4\n",
    "model_bisenet = BiSeNet(NC, 'resnet18').to(device)\n",
    "if device == 'cuda' and torch.cuda.device_count() > 1:\n",
    "    model_bisenet = torch.nn.DataParallel(model_bisenet).to(device)\n",
    "loss_fn = torch.nn.CrossEntropyLoss(ignore_index=255)\n",
    "optimizer_bisenet = torch.optim.Adam(model_bisenet.parameters(), lr=init_lr)\n",
    "\n",
    "bisenet_result_2_2 = train(model = model_bisenet,\n",
    "                           optimizer = optimizer_bisenet,\n",
    "                           loss_fn = loss_fn, \n",
    "                           train_dataloader = cityscapes_train_dataloader,\n",
    "                           validation_dataloader = cityscapes_test_dataloader, \n",
    "                           epochs = EPOCHS,\n",
    "                           device = device,\n",
    "                           model_name = \"bisenet\",\n",
    "                           class_number= NC)\n",
    "\n"
   ]
  },
  {
   "cell_type": "code",
   "execution_count": null,
   "metadata": {},
   "outputs": [],
   "source": [
    "\n",
    "import importlib\n",
    "import model_evaluation\n",
    "importlib.reload(model_evaluation)\n",
    "from model_evaluation import save_results\n",
    "model_bisenet.eval()\n",
    "save_results(model_bisenet, bisenet_result_2_2, \"bisenet_adam_performance_metrics_2_2\", height=CITYSCAPE_SIZE[0], width=CITYSCAPE_SIZE[1], iterations=100)\n",
    "plot_loss(bisenet_result_2_2, \"BiSeNet\", \"step2_2_adam\", \"CityScapes\", \"CityScapes\")\n",
    "plot_mIoU(bisenet_result_2_2, \"BiSeNet\", \"step2_2_adam\", \"CityScapes\", \"CityScapes\")\n",
    "plot_IoU(bisenet_result_2_2, \"BiSeNet\", \"step2_2_adam\", \"CityScapes\", \"CityScapes\")\n",
    "torch.save(model_bisenet.state_dict(), \"./checkpoints/bisenet_adam_model_2_2.pth\")\n",
    "\n"
   ]
  },
  {
   "cell_type": "markdown",
   "metadata": {},
   "source": [
    "## 3.1 Bisenet"
   ]
  },
  {
   "cell_type": "code",
   "execution_count": null,
   "metadata": {},
   "outputs": [],
   "source": [
    "model_bisenet_3_1 = BiSeNet(19, 'resnet18').to(device)\n",
    "if device == 'cuda' and torch.cuda.device_count() > 1:\n",
    "    model_bisenet_3_1 = torch.nn.DataParallel(model_bisenet_3_1).to(device)\n",
    "init_lr = 2.5e-4\n",
    "loss_fn = torch.nn.CrossEntropyLoss(ignore_index=255)\n",
    "optimizer_bisenet_3_1 = torch.optim.Adam(model_bisenet_3_1.parameters(), lr=init_lr)\n",
    "bisenet_result_3_1 = train(model=model_bisenet_3_1,\n",
    "                           optimizer=optimizer_bisenet_3_1,\n",
    "                           loss_fn=loss_fn,\n",
    "                           train_dataloader=GTA5_dataloader,\n",
    "                           validation_dataloader=cityscapes_test_dataloader,\n",
    "                           epochs=EPOCHS,\n",
    "                           device=device,\n",
    "                           model_name=\"bisenet\",\n",
    "                           class_number=NC)\n",
    "\n"
   ]
  },
  {
   "cell_type": "code",
   "execution_count": null,
   "metadata": {},
   "outputs": [],
   "source": [
    "save_results(model_bisenet_3_1, bisenet_result_3_1, \"bisenet_adam_performance_metrics_3_1\", height=CITYSCAPE_SIZE[0], width=CITYSCAPE_SIZE[1], iterations=1000, device=device)\n",
    "plot_loss(bisenet_result_3_1, \"BiSeNet\", \"step3_1_adam\", \"GTA5\", \"CityScapes\")\n",
    "plot_mIoU(bisenet_result_3_1, \"BiSeNet\", \"step3_1_adam\", \"GTA5\", \"CityScapes\")\n",
    "plot_IoU(bisenet_result_3_1, \"BiSeNet\", \"step3_1_adam\", \"GTA5\", \"CityScapes\")\n",
    "torch.save(model_bisenet_3_1.state_dict(), \"./checkpoints/bisenet_adam_model_3_1.pth\")\n",
    "\n"
   ]
  },
  {
   "cell_type": "markdown",
   "metadata": {},
   "source": [
    "## 3.2 Bisenet with augmentation\n",
    "\n"
   ]
  },
  {
   "cell_type": "code",
   "execution_count": null,
   "metadata": {},
   "outputs": [],
   "source": [
    "init_lr = 2.5e-4\n",
    "\n",
    "best_score = 0\n",
    "best_transform = ''\n",
    "\n",
    "# Evaluate each augmentation strategy\n",
    "for transform_name, transform_pipeline in augmentations.items():\n",
    "    # Prepare datasets with the current transformation\n",
    "    cityscapes_train_dataset = CityScapes('./Cityscapes', 'train', transform=transform_pipeline)\n",
    "    cityscapes_test_dataset = CityScapes('./Cityscapes', 'val', transform=transform_pipeline)\n",
    "    GTA5_dataset = GTA5('./GTA5', transform=transform_pipeline)\n",
    "\n",
    "    # Create dataloaders\n",
    "    cityscapes_train_dataloader = DataLoader(cityscapes_train_dataset, batch_size=BATCH_SIZE, shuffle=True, num_workers=NUM_WORKERS)\n",
    "    cityscapes_test_dataloader = DataLoader(cityscapes_test_dataset, batch_size=BATCH_SIZE, shuffle=True, num_workers=NUM_WORKERS)\n",
    "    GTA5_dataloader = DataLoader(GTA5_dataset, batch_size=BATCH_SIZE, shuffle=True, num_workers=NUM_WORKERS)\n",
    "    \n",
    "    # Initialize model and optimizer\n",
    "    model_bisenet_3_2 = BiSeNet(19, 'resnet18').to(device)\n",
    "    if device == 'cuda' and torch.cuda.device_count() > 1:\n",
    "        model_bisenet_3_2 = torch.nn.DataParallel(model_bisenet_3_2).to(device)\n",
    "    loss_fn = torch.nn.CrossEntropyLoss(ignore_index=255)\n",
    "    optimizer = torch.optim.Adam(model_bisenet_3_2.parameters(), lr=init_lr)\n",
    "\n",
    "    # Train the model\n",
    "    bisenet_result3_2 = train(model=model_bisenet_3_2,\n",
    "                              optimizer=optimizer,\n",
    "                              loss_fn=loss_fn,\n",
    "                              train_dataloader=GTA5_dataloader,\n",
    "                              validation_dataloader=cityscapes_test_dataloader,\n",
    "                              epochs=EPOCHS,\n",
    "                              device=device,\n",
    "                              model_name=\"bisenet\",\n",
    "                              class_number=NC)\n",
    "    \n",
    "    # Save and plot results\n",
    "    save_results(model_bisenet_3_2, bisenet_result3_2, f\"bisenet_sgd_performance_metrics_3_2_{transform_name}\", height=CITYSCAPE_SIZE[0], width=CITYSCAPE_SIZE[1], iterations=100, device=device)\n",
    "    plot_loss(bisenet_result3_2, \"BiSeNet\", f\"step3_2_sgd_{transform_name}\", \"GTA5\", \"CityScapes\")\n",
    "    plot_mIoU(bisenet_result3_2, \"BiSeNet\", f\"step3_2_sgd_{transform_name}\", \"GTA5\", \"CityScapes\")\n",
    "    plot_IoU(bisenet_result3_2, \"BiSeNet\", f\"step3_2_sgd_{transform_name}\", \"GTA5\", \"CityScapes\")\n",
    "    \n",
    "    # Save model checkpoint\n",
    "    torch.save(model_bisenet_3_2.state_dict(), f\"./checkpoints/bisenet_sgd_model_3_2_{transform_name}.pth\")\n",
    "    \n",
    "    # Update best performing transformation\n",
    "    if best_score < bisenet_result3_2[3][-1]:\n",
    "        best_score = bisenet_result3_2[3][-1]\n",
    "        best_transform = transform_name\n",
    "\n",
    "best_transform\n"
   ]
  },
  {
   "cell_type": "markdown",
   "metadata": {},
   "source": [
    "# 4.1 FDA"
   ]
  },
  {
   "cell_type": "code",
   "execution_count": null,
   "metadata": {},
   "outputs": [],
   "source": [
    "\n",
    "GTA5_dataset = GTA5('./GTA5', transform=augmentations['transform2'], FDA = 0.01)\n",
    "GTA5_dataloader = DataLoader(GTA5_dataset, batch_size=BATCH_SIZE, shuffle=True, num_workers=NUM_WORKERS)\n",
    "\n",
    "model_bisenet_4_1_FDA = BiSeNet(19, 'resnet18').to(device)\n",
    "if device == 'cuda' and torch.cuda.device_count() > 1:\n",
    "    model_bisenet_4_1_FDA = torch.nn.DataParallel(model_bisenet_4_1_FDA).to(device)\n",
    "init_lr = 2.5e-4 #0.0001\n",
    "loss_fn = torch.nn.CrossEntropyLoss(ignore_index=255)\n",
    "optimizer = torch.optim.Adam(model_bisenet_4_1_FDA.parameters(), lr=init_lr)\n",
    "bisenet_result4_1_FDA = train(model = model_bisenet_4_1_FDA,\n",
    "                              optimizer = optimizer,\n",
    "                              loss_fn = loss_fn,\n",
    "                              train_dataloader = GTA5_dataloader,\n",
    "                              validation_dataloader = cityscapes_test_dataloader,\n",
    "                              epochs = EPOCHS,\n",
    "                              device = device,\n",
    "                              model_name = \"bisenet\",\n",
    "                              class_number= NC)\n",
    "\n",
    "    \n",
    "save_results(model_bisenet_4_1_FDA, bisenet_result4_1_FDA, \"bisenet_adam_performance_metrics_4_1_FDA7\", height=CITYSCAPE_SIZE[0], width=CITYSCAPE_SIZE[1], iterations=100, device=device)\n",
    "plot_loss(bisenet_result4_1_FDA, \"BiSeNet\", \"step4_1_adam_FDA7\", \"GTA5\", \"CityScapes\")\n",
    "plot_mIoU(bisenet_result4_1_FDA, \"BiSeNet\", \"step4_1_adam_FDA7\", \"GTA5\", \"CityScapes\")\n",
    "plot_IoU(bisenet_result4_1_FDA, \"BiSeNet\", \"step4_1_adam_FDA7\", \"GTA5\", \"CityScapes\")\n",
    "torch.save(model_bisenet_4_1_FDA.state_dict(), f\"./checkpoints/bisenet_adam_model_4_1_FDA7.pth\")\n"
   ]
  },
  {
   "cell_type": "markdown",
   "metadata": {},
   "source": [
    "# 4.2 DACS"
   ]
  },
  {
   "cell_type": "code",
   "execution_count": null,
   "metadata": {},
   "outputs": [],
   "source": [
    "\n",
    "# GTA5_dataset = GTA5('./GTA5', transform=augmentations[best], FDA = 0.09)\n",
    "GTA5_dataset = GTA5('./GTA5', transform=augmentations['transform2'])\n",
    "GTA5_dataloader = DataLoader(GTA5_dataset, batch_size=2, shuffle=False, num_workers=NUM_WORKERS)\n",
    "# GTA5_dataset = GTA5('./GTA5', transform=augmentations[best_transform], FDA = 0.09)\n",
    "\n",
    "# GTA5_dataloader = DataLoader(GTA5_dataset, batch_size=BATCH_SIZE, shuffle=False, num_workers=NUM_WORKERS)\n",
    "model_bisenet_4_2_DACS = BiSeNet(NC, 'resnet18').to(device)\n",
    "if device == 'cuda' and torch.cuda.device_count() > 1:\n",
    "    model_bisenet_4_2_DACS = torch.nn.DataParallel(model_bisenet_4_2_DACS).to(device)\n",
    "init_lr = 2.5e-4\n",
    "loss_fn = torch.nn.CrossEntropyLoss(ignore_index=255)\n",
    "optimizer = torch.optim.Adam(model_bisenet_4_2_DACS.parameters(), lr=init_lr)\n",
    "\n",
    "bisenet_result4_2_DACS = train(model = model_bisenet_4_2_DACS,\n",
    "                               optimizer = optimizer,\n",
    "                               loss_fn = loss_fn,\n",
    "                               train_dataloader= GTA5_dataloader,\n",
    "                               validation_dataloader=cityscapes_test_dataloader,\n",
    "                               target_dataloader=cityscapes_train_dataloader,\n",
    "                               epochs=EPOCHS,\n",
    "                               device = device,\n",
    "                               model_name='bisenet',\n",
    "                               )\n",
    "save_results(model_bisenet_4_2_DACS, bisenet_result4_2_DACS, \"bisenet_sgd_performance_metrics_4_2_DACS\", height=CITYSCAPE_SIZE[0], width=CITYSCAPE_SIZE[1], iterations=100, device=device)\n",
    "plot_loss(bisenet_result4_2_DACS, \"BiSeNet_sgd\", \"step4_2_DACS\", \"GTA5 + CityScapes (DACS)\", \"CityScapes\")\n",
    "plot_mIoU(bisenet_result4_2_DACS, \"BiSeNet_sgd\", \"step4_2_DACS\", \"GTA5 + CityScapes (DACS)\", \"CityScapes\")\n",
    "plot_IoU(bisenet_result4_2_DACS, \"BiSeNet_sgd\", \"step4_2_DACS\", \"GTA5 + CityScapes (DACS)\", \"CityScapes\")\n",
    "\n",
    "torch.save(model_bisenet_4_2_DACS.state_dict(), \"./checkpoints/bisenet_sgd_model_4_2_DACS.pth\")\n"
   ]
  },
  {
   "cell_type": "code",
   "execution_count": null,
   "metadata": {},
   "outputs": [],
   "source": []
  }
 ],
 "metadata": {
  "kernelspec": {
   "display_name": "SEMSEG",
   "language": "python",
   "name": "python3"
  },
  "language_info": {
   "codemirror_mode": {
    "name": "ipython",
    "version": 3
   },
   "file_extension": ".py",
   "mimetype": "text/x-python",
   "name": "python",
   "nbconvert_exporter": "python",
   "pygments_lexer": "ipython3",
   "version": "3.9.19"
  }
 },
 "nbformat": 4,
 "nbformat_minor": 2
}
