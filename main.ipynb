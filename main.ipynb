{
 "cells": [
  {
   "cell_type": "code",
   "execution_count": 1,
   "metadata": {},
   "outputs": [],
   "source": [
    "import torch\n",
    "from torch.utils.data import DataLoader\n",
    "import albumentations as A\n",
    "from datasets import GTA5, CityScapes\n",
    "from models.deeplabv2.deeplabv2 import get_deeplab_v2\n",
    "from models.bisenet.build_bisenet import BiSeNet\n",
    "from training import train\n",
    "from model_evaluation import save_results\n",
    "from visualization import  plot_loss, plot_mIoU, plot_IoU\n",
    "from config import BATCH_SIZE, NC, NUM_WORKERS, CITYSCAPE_SIZE, GTA5_SIZE, EPOCHS, CITYSCAPES_MEAN, CITYSCAPES_STD, GTA5_MEAN, GTA5_STD\n",
    "torch.cuda.manual_seed(42)\n",
    "\n",
    "device = 'cuda' if torch.cuda.is_available() else 'cpu'\n",
    "\n"
   ]
  },
  {
   "cell_type": "code",
   "execution_count": 2,
   "metadata": {},
   "outputs": [
    {
     "data": {
      "text/plain": [
       "393"
      ]
     },
     "execution_count": 2,
     "metadata": {},
     "output_type": "execute_result"
    }
   ],
   "source": [
    "\n",
    "transforms = A.Compose([\n",
    "    A.Resize(CITYSCAPE_SIZE[0], CITYSCAPE_SIZE[1]),\n",
    "])\n",
    "transforms_GTA5 = A.Compose([\n",
    "    A.Resize(GTA5_SIZE[0], GTA5_SIZE[1]),\n",
    "])\n",
    "\n",
    "cityscapes_train_dataset = CityScapes('./Cityscapes', 'train', transform=transforms)\n",
    "cityscapes_test_dataset = CityScapes('./Cityscapes', 'val', transform=transforms)\n",
    "GTA5_dataset = GTA5('./GTA5', transform=transforms_GTA5)\n",
    "\n",
    "cityscapes_train_dataloader = DataLoader(cityscapes_train_dataset, batch_size=BATCH_SIZE, shuffle=True, num_workers=NUM_WORKERS)\n",
    "cityscapes_test_dataloader = DataLoader(cityscapes_test_dataset, batch_size=BATCH_SIZE, shuffle=True, num_workers=NUM_WORKERS)\n",
    "GTA5_dataloader = DataLoader(GTA5_dataset, batch_size=BATCH_SIZE, shuffle=True, num_workers=NUM_WORKERS)\n",
    "# cityscapes_mean, city_scapes_std = calculate_mean_std(cityscapes_train_dataloader)\n",
    "# GTA5_mean, GTA5_std = calculate_mean_std(GTA5_dataloader)\n",
    "\n",
    "len(cityscapes_train_dataloader)"
   ]
  },
  {
   "cell_type": "markdown",
   "metadata": {},
   "source": [
    "## 2.1 DeepLabV2"
   ]
  },
  {
   "cell_type": "code",
   "execution_count": null,
   "metadata": {},
   "outputs": [],
   "source": [
    "\n",
    "loss_fn = torch.nn.CrossEntropyLoss(ignore_index=255)\n",
    "init_lr = 7.5e-4\n",
    "model_deeplab = get_deeplab_v2(num_classes=19, pretrain=True, pretrain_model_path='./models/deeplab_resnet_pretrained_imagenet.pth').to(device)\n",
    "if device == 'cuda' and torch.cuda.device_count() > 1:\n",
    "    model_deeplab = torch.nn.DataParallel(model_deeplab).to(device)\n",
    "optimizer_deeplab = torch.optim.Adam(model_deeplab.parameters(), lr=init_lr)\n",
    "\n",
    "deeplab_result = train(model = model_deeplab,\n",
    "                       optimizer = optimizer_deeplab,\n",
    "                       loss_fn = loss_fn, \n",
    "                       train_dataloader = cityscapes_train_dataloader,\n",
    "                       validation_dataloader = cityscapes_test_dataloader, \n",
    "                       epochs = EPOCHS,\n",
    "                       device = device,\n",
    "                       model_name = \"deeplab\",\n",
    "                       class_number= NC)"
   ]
  },
  {
   "cell_type": "code",
   "execution_count": null,
   "metadata": {},
   "outputs": [],
   "source": [
    "save_results(model_deeplab, deeplab_result, \"deeplab_performance_metrics_2_1\", height=CITYSCAPE_SIZE[0], width=CITYSCAPE_SIZE[1], iterations=100, device=device)\n",
    "plot_loss(deeplab_result, \"DeepLabV2\", \"step2_1\", \"CityScapes\", \"CityScapes\")\n",
    "plot_mIoU(deeplab_result, \"DeepLabV2\", \"step2_1\", \"CityScapes\", \"CityScapes\")\n",
    "plot_IoU(deeplab_result, \"DeepLabV2\", \"step2_1\", \"CityScapes\", \"CityScapes\")\n",
    "\n",
    "torch.save(model_deeplab.state_dict(), \"./checkpoints/deeplab_model_2_1.pth\")"
   ]
  },
  {
   "cell_type": "markdown",
   "metadata": {},
   "source": [
    "## 2.2 BiseNet\n"
   ]
  },
  {
   "cell_type": "code",
   "execution_count": null,
   "metadata": {},
   "outputs": [],
   "source": [
    "init_lr = 7.5e-4\n",
    "model_bisenet = BiSeNet(NC, 'resnet18').to(device)\n",
    "if device == 'cuda' and torch.cuda.device_count() > 1:\n",
    "    model_bisenet = torch.nn.DataParallel(model_bisenet).to(device)\n",
    "loss_fn = torch.nn.CrossEntropyLoss(ignore_index=255)\n",
    "optimizer_bisenet = torch.optim.Adam(model_bisenet.parameters(), lr=init_lr)\n",
    "\n",
    "bisenet_result_2_2 = train(model = model_bisenet,\n",
    "                           optimizer = optimizer_bisenet,\n",
    "                           loss_fn = loss_fn, \n",
    "                           train_dataloader = cityscapes_train_dataloader,\n",
    "                           validation_dataloader = cityscapes_test_dataloader, \n",
    "                           epochs = EPOCHS,\n",
    "                           device = device,\n",
    "                           model_name = \"bisenet\",\n",
    "                           class_number= NC)\n",
    "\n"
   ]
  },
  {
   "cell_type": "code",
   "execution_count": null,
   "metadata": {},
   "outputs": [],
   "source": [
    "\n",
    "import importlib\n",
    "import model_evaluation\n",
    "importlib.reload(model_evaluation)\n",
    "from model_evaluation import save_results\n",
    "model_bisenet.eval()\n",
    "save_results(model_bisenet, bisenet_result_2_2, \"bisenet_performance_metrics_2_2\", height=CITYSCAPE_SIZE[0], width=CITYSCAPE_SIZE[1], iterations=100)\n",
    "plot_loss(bisenet_result_2_2, \"BiSeNet\", \"step2_2\", \"CityScapes\", \"CityScapes\")\n",
    "plot_mIoU(bisenet_result_2_2, \"BiSeNet\", \"step2_2\", \"CityScapes\", \"CityScapes\")\n",
    "plot_IoU(bisenet_result_2_2, \"BiSeNet\", \"step2_2\", \"CityScapes\", \"CityScapes\")\n",
    "torch.save(model_bisenet.state_dict(), \"./checkpoints/bisenet_model_2_2.pth\")"
   ]
  },
  {
   "cell_type": "code",
   "execution_count": null,
   "metadata": {},
   "outputs": [],
   "source": []
  },
  {
   "cell_type": "markdown",
   "metadata": {},
   "source": [
    "## 3.1 Bisenet"
   ]
  },
  {
   "cell_type": "code",
   "execution_count": 3,
   "metadata": {},
   "outputs": [
    {
     "data": {
      "application/vnd.jupyter.widget-view+json": {
       "model_id": "62080a07efd14127806a86370a662164",
       "version_major": 2,
       "version_minor": 0
      },
      "text/plain": [
       "  0%|          | 0/50 [00:00<?, ?it/s]"
      ]
     },
     "metadata": {},
     "output_type": "display_data"
    },
    {
     "name": "stdout",
     "output_type": "stream",
     "text": [
      "Epoch: 0\n",
      "Train Loss: 1.6042883162498474, Validation Loss: 2.0197556743621825\n",
      "Train mIoU: 0.2681365366690962, Validation mIoU: 0.09273634044936782\n",
      "Epoch: 1\n",
      "Train Loss: 0.9745686050415039, Validation Loss: 3.1226053371429443\n",
      "Train mIoU: 0.32981005107265327, Validation mIoU: 0.09678133180090781\n",
      "Epoch: 2\n",
      "Train Loss: 0.8364246564865112, Validation Loss: 3.165051547050476\n",
      "Train mIoU: 0.3645545071420017, Validation mIoU: 0.10840774321881526\n",
      "Epoch: 3\n",
      "Train Loss: 0.7435059916496277, Validation Loss: 3.0518155422210693\n",
      "Train mIoU: 0.3942843031145792, Validation mIoU: 0.07174938690818862\n",
      "Epoch: 4\n",
      "Train Loss: 0.6618516142368317, Validation Loss: 2.811025053024292\n",
      "Train mIoU: 0.42348667493829945, Validation mIoU: 0.1292978256511923\n",
      "Epoch: 5\n",
      "Train Loss: 0.6251453514099121, Validation Loss: 2.799917706489563\n",
      "Train mIoU: 0.4379486793943246, Validation mIoU: 0.12790642567864516\n",
      "Epoch: 6\n",
      "Train Loss: 0.5642794682979584, Validation Loss: 1.9162872762680054\n",
      "Train mIoU: 0.4596290078289407, Validation mIoU: 0.1390267485404415\n",
      "Epoch: 7\n",
      "Train Loss: 0.5161641779899597, Validation Loss: 4.495845352172852\n",
      "Train mIoU: 0.47813256291334927, Validation mIoU: 0.0954659368894508\n",
      "Epoch: 8\n",
      "Train Loss: 0.4911911873817444, Validation Loss: 2.397481385231018\n",
      "Train mIoU: 0.4892949334818902, Validation mIoU: 0.15188514694006872\n",
      "Epoch: 9\n",
      "Train Loss: 0.4492675446033478, Validation Loss: 1.2074004383087158\n",
      "Train mIoU: 0.5070158672341696, Validation mIoU: 0.19073275771998816\n",
      "Epoch: 10\n",
      "Train Loss: 0.4138032670497894, Validation Loss: 2.1778552131652833\n",
      "Train mIoU: 0.521798365969112, Validation mIoU: 0.13966998185683352\n",
      "Epoch: 11\n",
      "Train Loss: 0.39481466858386993, Validation Loss: 2.298959363937378\n",
      "Train mIoU: 0.529126777594488, Validation mIoU: 0.1561818268522664\n",
      "Epoch: 12\n",
      "Train Loss: 0.37711205184459684, Validation Loss: 2.1889932861328125\n",
      "Train mIoU: 0.5392684354020696, Validation mIoU: 0.1576601382568278\n",
      "Epoch: 13\n",
      "Train Loss: 0.36308312993049624, Validation Loss: 2.164945666313171\n",
      "Train mIoU: 0.5474843345097709, Validation mIoU: 0.15023300902645112\n"
     ]
    }
   ],
   "source": [
    "model_bisenet_3_1 = BiSeNet(19, 'resnet18').to(device)\n",
    "if device == 'cuda' and torch.cuda.device_count() > 1:\n",
    "    model_bisenet_3_1 = torch.nn.DataParallel(model_bisenet_3_1).to(device)\n",
    "init_lr = 7.5e-4\n",
    "loss_fn = torch.nn.CrossEntropyLoss(ignore_index=255)\n",
    "optimizer_bisenet_3_1 = torch.optim.Adam(model_bisenet_3_1.parameters(), lr=init_lr)\n",
    "bisenet_result_3_1 = train(model=model_bisenet_3_1,\n",
    "                           optimizer=optimizer_bisenet_3_1,\n",
    "                           loss_fn=loss_fn,\n",
    "                           train_dataloader=GTA5_dataloader,\n",
    "                           validation_dataloader=cityscapes_test_dataloader,\n",
    "                           epochs=EPOCHS,\n",
    "                           device=device,\n",
    "                           model_name=\"bisenet\",\n",
    "                           class_number=NC)\n",
    "\n"
   ]
  },
  {
   "cell_type": "code",
   "execution_count": null,
   "metadata": {},
   "outputs": [],
   "source": [
    "save_results(model_bisenet_3_1, bisenet_result_3_1, \"bisenet_performance_metrics_3_1\", height=CITYSCAPE_SIZE[0], width=CITYSCAPE_SIZE[1], iterations=1000, device=device)\n",
    "plot_loss(bisenet_result_3_1, \"BiSeNet\", \"step3_1\", \"GTA5\", \"CityScapes\")\n",
    "plot_mIoU(bisenet_result_3_1, \"BiSeNet\", \"step3_1\", \"GTA5\", \"CityScapes\")\n",
    "plot_IoU(bisenet_result_3_1, \"BiSeNet\", \"step3_1\", \"GTA5\", \"CityScapes\")\n",
    "torch.save(model_bisenet_3_1.state_dict(), \"./checkpoints/bisenet_model_3_1.pth\")"
   ]
  },
  {
   "cell_type": "markdown",
   "metadata": {},
   "source": [
    "## 3.2 Bisenet with augmentation\n",
    "\n"
   ]
  },
  {
   "cell_type": "code",
   "execution_count": null,
   "metadata": {},
   "outputs": [],
   "source": [
    "\n",
    "augmentations = {\n",
    "    'transform1': A.Compose([\n",
    "        A.Resize(GTA5_SIZE[0], GTA5_SIZE[1]),\n",
    "        A.HorizontalFlip(p=0.5),\n",
    "        A.RandomBrightnessContrast(p=0.5),\n",
    "    ]),\n",
    "    'transform2': A.Compose([\n",
    "        A.Resize(GTA5_SIZE[0], GTA5_SIZE[1]),\n",
    "        A.HueSaturationValue(p=0.5),\n",
    "        A.GaussianBlur(kernel_size=(5, 5), sigma=(0.1, 1), p=0.5),\n",
    "    ]),\n",
    "    'transform3': A.Compose([\n",
    "        A.Resize(GTA5_SIZE[0], GTA5_SIZE[1]),\n",
    "        A.HorizontalFlip(p=0.5),\n",
    "        A.GaussianBlur(kernel_size=(5, 5), sigma=(0.1, 1), p=0.5),\n",
    "        A.GaussNoise(p=0.5),\n",
    "    ]),\n",
    "    'transform4': A.Compose([\n",
    "        A.Resize(GTA5_SIZE[0], GTA5_SIZE[1]),\n",
    "        A.HorizontalFlip(p=0.5),\n",
    "        A.HueSaturationValue(p=0.5),\n",
    "        A.RandomBrightnessContrast(p=0.5),\n",
    "    ]),\n",
    "    'transform5': A.Compose([\n",
    "        A.Resize(GTA5_SIZE[0], GTA5_SIZE[1]),\n",
    "        A.GaussianBlur(kernel_size=(5, 5), sigma=(0.1, 1), p=0.5),\n",
    "        A.GaussNoise(p=0.5),\n",
    "    ]),\n",
    "    'transform6': A.Compose([\n",
    "        A.Resize(GTA5_SIZE[0], GTA5_SIZE[1]),\n",
    "        A.HorizontalFlip(p=0.5),\n",
    "        A.GaussNoise(p=0.5),\n",
    "        A.RandomBrightnessContrast(p=0.5),\n",
    "        A.HueSaturationValue(p=0.5),\n",
    "    ])\n",
    "}\n",
    "best_score = 0\n",
    "best_transform = ''\n",
    "\n",
    "# Evaluate each augmentation strategy\n",
    "for transform_name, transform_pipeline in augmentations.items():\n",
    "    # Prepare datasets with the current transformation\n",
    "    cityscapes_train_dataset = CityScapes('./Cityscapes', 'train', transform=transform_pipeline)\n",
    "    cityscapes_test_dataset = CityScapes('./Cityscapes', 'val', transform=transform_pipeline)\n",
    "    GTA5_dataset = GTA5('./GTA5', transform=transform_pipeline)\n",
    "\n",
    "    # Create dataloaders\n",
    "    cityscapes_train_dataloader = DataLoader(cityscapes_train_dataset, batch_size=BATCH_SIZE, shuffle=False, num_workers=NUM_WORKERS)\n",
    "    cityscapes_test_dataloader = DataLoader(cityscapes_test_dataset, batch_size=BATCH_SIZE, shuffle=False, num_workers=NUM_WORKERS)\n",
    "    GTA5_dataloader = DataLoader(GTA5_dataset, batch_size=BATCH_SIZE, shuffle=False, num_workers=NUM_WORKERS)\n",
    "    \n",
    "    # Initialize model and optimizer\n",
    "    model_bisenet_3_2 = BiSeNet(19, 'resnet18').to(device)\n",
    "    if device == 'cuda' and torch.cuda.device_count() > 1:\n",
    "        model_bisenet_3_2 = torch.nn.DataParallel(model_bisenet_3_2).to(device)\n",
    "    loss_fn = torch.nn.CrossEntropyLoss(ignore_index=255)\n",
    "    optimizer = torch.optim.Adam(model_bisenet_3_2.parameters(), lr=2.5e-4)\n",
    "\n",
    "    # Train the model\n",
    "    bisenet_result3_2 = train(model=model_bisenet_3_2,\n",
    "                              optimizer=optimizer,\n",
    "                              loss_fn=loss_fn,\n",
    "                              train_dataloader=GTA5_dataloader,\n",
    "                              validation_dataloader=cityscapes_test_dataloader,\n",
    "                              epochs=EPOCHS,\n",
    "                              device=device,\n",
    "                              model_name=\"bisenet\",\n",
    "                              class_number=NC)\n",
    "    \n",
    "    # Save and plot results\n",
    "    save_results(model_bisenet_3_2, bisenet_result3_2, f\"bisenet_performance_metrics_3_2_{transform_name}\", height=CITYSCAPE_SIZE[0], width=CITYSCAPE_SIZE[1], iterations=100, device=device)\n",
    "    plot_loss(bisenet_result3_2, \"BiSeNet\", f\"step3_2_{transform_name}\", \"GTA5\", \"CityScapes\")\n",
    "    plot_mIoU(bisenet_result3_2, \"BiSeNet\", f\"step3_2_{transform_name}\", \"GTA5\", \"CityScapes\")\n",
    "    plot_IoU(bisenet_result3_2, \"BiSeNet\", f\"step3_2_{transform_name}\", \"GTA5\", \"CityScapes\")\n",
    "    \n",
    "    # Save model checkpoint\n",
    "    torch.save(model_bisenet_3_2.state_dict(), f\"./checkpoints/bisenet_model_3_2_{transform_name}.pth\")\n",
    "    \n",
    "    # Update best performing transformation\n",
    "    if best_score < bisenet_result3_2[3][-1]:\n",
    "        best_score = bisenet_result3_2[3][-1]\n",
    "        best_transform = transform_name\n",
    "\n",
    "best_transform\n"
   ]
  },
  {
   "cell_type": "markdown",
   "metadata": {},
   "source": [
    "# 4.1 FDA"
   ]
  },
  {
   "cell_type": "code",
   "execution_count": null,
   "metadata": {},
   "outputs": [],
   "source": [
    "GTA5_dataset = GTA5('./GTA5', transform=transforms_GTA5, FDA = 0.09)\n",
    "GTA5_dataloader = DataLoader(GTA5_dataset, batch_size=BATCH_SIZE, shuffle=False, num_workers=NUM_WORKERS)\n",
    "model_bisenet_4_1_FDA = BiSeNet(19, 'resnet18').to(device)\n",
    "if device == 'cuda' and torch.cuda.device_count() > 1:\n",
    "    model_bisenet_4_1_FDA = torch.nn.DataParallel(model_bisenet_4_1_FDA).to(device)\n",
    "init_lr = 2.5e-4 #0.0001\n",
    "loss_fn = torch.nn.CrossEntropyLoss(ignore_index=255)\n",
    "optimizer = torch.optim.Adam(model_bisenet_4_1_FDA.parameters(), lr=init_lr)\n",
    "\n",
    "bisenet_result4_1_FDA = train(model = model_bisenet_4_1_FDA,\n",
    "                              optimizer = optimizer,\n",
    "                              loss_fn = loss_fn,\n",
    "                              train_dataloader = GTA5_dataloader,\n",
    "                              validation_dataloader = cityscapes_test_dataloader,\n",
    "                              epochs = EPOCHS,\n",
    "                              device = device,\n",
    "                              model_name = \"bisenet\",\n",
    "                              class_number= NC)\n",
    "\n",
    "    \n",
    "save_results(model_bisenet_4_1_FDA, bisenet_result4_1_FDA, \"bisenet_performance_metrics_4_1_FDA\", height=CITYSCAPE_SIZE[0], width=CITYSCAPE_SIZE[1], iterations=10, device=device)\n",
    "plot_loss(bisenet_result4_1_FDA, \"BiSeNet\", \"step4_1_FDA\", \"GTA5\", \"CityScapes\")\n",
    "plot_mIoU(bisenet_result4_1_FDA, \"BiSeNet\", \"step4_1_FDA\", \"GTA5\", \"CityScapes\")\n",
    "plot_IoU(bisenet_result4_1_FDA, \"BiSeNet\", \"step4_1_FDA\", \"GTA5\", \"CityScapes\")\n",
    "torch.save(model_bisenet_4_1_FDA.state_dict(), f\"./checkpoints/bisenet_model_4_1_FDA.pth\")\n"
   ]
  },
  {
   "cell_type": "markdown",
   "metadata": {},
   "source": [
    "# 4.2 DACS"
   ]
  },
  {
   "cell_type": "markdown",
   "metadata": {},
   "source": [
    "1- In the paper they say that they are using pretrained model. but in pseudocode they say that they are initializing the model with random parameters.\n"
   ]
  },
  {
   "cell_type": "code",
   "execution_count": null,
   "metadata": {},
   "outputs": [],
   "source": [
    "# GTA5_dataset = GTA5('./GTA5', transform=augmentations[best], FDA = 0.09)\n",
    "\n",
    "sigma = 150 # 175 for gta5 size, 100 for cityscapes size\n",
    "# GTA5_dataset = GTA5('./GTA5', transform=augmentations[best_transform], FDA = 0.09)\n",
    "\n",
    "# GTA5_dataloader = DataLoader(GTA5_dataset, batch_size=BATCH_SIZE, shuffle=False, num_workers=NUM_WORKERS)\n",
    "model_bisenet_4_2_DACS = BiSeNet(NC, 'resnet18').to(device)\n",
    "if device == 'cuda' and torch.cuda.device_count() > 1:\n",
    "    model_bisenet_4_2_DACS = torch.nn.DataParallel(model_bisenet_4_2_DACS).to(device)\n",
    "init_lr = 2.5e-4 #0.0001\n",
    "loss_fn = torch.nn.CrossEntropyLoss(ignore_index=255)\n",
    "optimizer = torch.optim.Adam(model_bisenet_4_2_DACS.parameters(), lr=init_lr)\n",
    "\n",
    "bisenet_result4_2_DACS = train(model = model_bisenet_4_2_DACS,\n",
    "                               optimizer = optimizer,\n",
    "                               loss_fn = loss_fn,\n",
    "                               train_dataloader= GTA5_dataloader,\n",
    "                               validation_dataloader=cityscapes_test_dataloader,\n",
    "                               target_dataloader=cityscapes_train_dataloader,\n",
    "                               epochs=EPOCHS,\n",
    "                               device = device,\n",
    "                               model_name='bisenet',\n",
    "                               )\n",
    "save_results(model_bisenet_4_2_DACS, bisenet_result4_2_DACS, \"bisenet_performance_metrics_4_2_DACS\", height=CITYSCAPE_SIZE[0], width=CITYSCAPE_SIZE[1], iterations=100, device=device)\n",
    "plot_loss(bisenet_result4_2_DACS, \"BiSeNet\", \"step4_2_DACS\", \"GTA5 + CityScapes (DACS)\", \"CityScapes\")\n",
    "plot_mIoU(bisenet_result4_2_DACS, \"BiSeNet\", \"step4_2_DACS\", \"GTA5 + CityScapes (DACS)\", \"CityScapes\")\n",
    "plot_IoU(bisenet_result4_2_DACS, \"BiSeNet\", \"step4_2_DACS\", \"GTA5 + CityScapes (DACS)\", \"CityScapes\")\n",
    "\n",
    "torch.save(model_bisenet_4_2_DACS.state_dict(), \"./checkpoints/bisenet_model_4_2_DACS.pth\")\n"
   ]
  },
  {
   "cell_type": "code",
   "execution_count": null,
   "metadata": {},
   "outputs": [],
   "source": []
  },
  {
   "cell_type": "code",
   "execution_count": null,
   "metadata": {},
   "outputs": [],
   "source": []
  }
 ],
 "metadata": {
  "kernelspec": {
   "display_name": "SEMSEG",
   "language": "python",
   "name": "python3"
  },
  "language_info": {
   "codemirror_mode": {
    "name": "ipython",
    "version": 3
   },
   "file_extension": ".py",
   "mimetype": "text/x-python",
   "name": "python",
   "nbconvert_exporter": "python",
   "pygments_lexer": "ipython3",
   "version": "3.9.19"
  }
 },
 "nbformat": 4,
 "nbformat_minor": 2
}
