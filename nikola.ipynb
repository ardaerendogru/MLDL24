{
 "cells": [
  {
   "cell_type": "code",
   "execution_count": null,
   "metadata": {},
   "outputs": [],
   "source": [
    "import torch\n",
    "from torch.utils.data import DataLoader\n",
    "import albumentations as A\n",
    "from datasets import GTA5, CityScapes\n",
    "from models.deeplabv2.deeplabv2 import get_deeplab_v2\n",
    "from models.bisenet.build_bisenet import BiSeNet\n",
    "from training import train\n",
    "from model_evaluation import save_results\n",
    "from visualization import  plot_loss, plot_mIoU, plot_IoU\n",
    "from config import BATCH_SIZE, NC, NUM_WORKERS, CITYSCAPE_SIZE, GTA5_SIZE, EPOCHS, CITYSCAPES_MEAN, CITYSCAPES_STD, GTA5_MEAN, GTA5_STD\n",
    "torch.cuda.manual_seed(42)\n",
    "\n",
    "device = 'cuda' if torch.cuda.is_available() else 'cpu'\n",
    "\n"
   ]
  },
  {
   "cell_type": "code",
   "execution_count": null,
   "metadata": {},
   "outputs": [],
   "source": [
    "\n",
    "transforms = A.Compose([\n",
    "    A.Resize(CITYSCAPE_SIZE[0], CITYSCAPE_SIZE[1]),\n",
    "])\n",
    "transforms_GTA5 = A.Compose([\n",
    "        A.Resize(GTA5_SIZE[0], GTA5_SIZE[1]),\n",
    "\n",
    "\n",
    "])\n",
    "\n",
    "cityscapes_train_dataset = CityScapes('./Cityscapes', 'train', transform=transforms)\n",
    "cityscapes_test_dataset = CityScapes('./Cityscapes', 'val', transform=transforms)\n",
    "GTA5_dataset = GTA5('./GTA5', transform=transforms_GTA5)\n",
    "\n",
    "cityscapes_train_dataloader = DataLoader(cityscapes_train_dataset, batch_size=BATCH_SIZE, shuffle=True, num_workers=NUM_WORKERS)\n",
    "cityscapes_test_dataloader = DataLoader(cityscapes_test_dataset, batch_size=BATCH_SIZE, shuffle=True, num_workers=NUM_WORKERS)\n",
    "GTA5_dataloader = DataLoader(GTA5_dataset, batch_size=BATCH_SIZE, shuffle=True, num_workers=NUM_WORKERS)\n",
    "# cityscapes_mean, city_scapes_std = calculate_mean_std(cityscapes_train_dataloader)\n",
    "# GTA5_mean, GTA5_std = calculate_mean_std(GTA5_dataloader)\n",
    "\n",
    "len(cityscapes_train_dataloader)"
   ]
  },
  {
   "cell_type": "code",
   "execution_count": null,
   "metadata": {},
   "outputs": [],
   "source": [
    "\n",
    "loss_fn = torch.nn.CrossEntropyLoss(ignore_index=255)\n",
    "init_lr = 2.5e-4\n",
    "model_deeplab = get_deeplab_v2(num_classes=19, pretrain=True, pretrain_model_path='./models/deeplab_resnet_pretrained_imagenet.pth').to(device)\n",
    "if device == 'cuda' and torch.cuda.device_count() > 1:\n",
    "    model_deeplab = torch.nn.DataParallel(model_deeplab).to(device)\n",
    "optimizer_deeplab = torch.optim.SGD(model_deeplab.parameters(), lr=init_lr, momentum=0.9, weight_decay=5e-4)\n",
    "\n",
    "deeplab_result = train(model = model_deeplab,\n",
    "                       optimizer = optimizer_deeplab,\n",
    "                       loss_fn = loss_fn, \n",
    "                       train_dataloader = cityscapes_train_dataloader,\n",
    "                       validation_dataloader = cityscapes_test_dataloader, \n",
    "                       epochs = EPOCHS,\n",
    "                       device = device,\n",
    "                       model_name = \"deeplab\",\n",
    "                       class_number= NC)"
   ]
  },
  {
   "cell_type": "code",
   "execution_count": null,
   "metadata": {},
   "outputs": [],
   "source": [
    "save_results(model_deeplab, deeplab_result, \"deeplab_performance_metrics_2_1\", height=CITYSCAPE_SIZE[0], width=CITYSCAPE_SIZE[1], iterations=100, device=device)\n",
    "plot_loss(deeplab_result, \"DeepLabV2\", \"step2_1\", \"CityScapes\", \"CityScapes\")\n",
    "plot_mIoU(deeplab_result, \"DeepLabV2\", \"step2_1\", \"CityScapes\", \"CityScapes\")\n",
    "plot_IoU(deeplab_result, \"DeepLabV2\", \"step2_1\", \"CityScapes\", \"CityScapes\")\n",
    "\n",
    "torch.save(model_deeplab.state_dict(), \"./checkpoints/deeplab_model_2_1.pth\")"
   ]
  }
 ],
 "metadata": {
  "language_info": {
   "name": "python"
  }
 },
 "nbformat": 4,
 "nbformat_minor": 2
}
